{
 "cells": [
  {
   "cell_type": "code",
   "execution_count": 4,
   "id": "919969d3-6979-4ece-a314-7bacdb6859c4",
   "metadata": {},
   "outputs": [
    {
     "name": "stdout",
     "output_type": "stream",
     "text": [
      "Collecting scipy\n",
      "  Downloading scipy-1.14.1-cp312-cp312-macosx_14_0_arm64.whl.metadata (60 kB)\n",
      "\u001b[2K     \u001b[90m━━━━━━━━━━━━━━━━━━━━━━━━━━━━━━━━━━━━━━━\u001b[0m \u001b[32m60.8/60.8 kB\u001b[0m \u001b[31m762.7 kB/s\u001b[0m eta \u001b[36m0:00:00\u001b[0m \u001b[36m0:00:01\u001b[0m\n",
      "\u001b[?25hRequirement already satisfied: numpy<2.3,>=1.23.5 in /Users/deepakdhull/miniconda3/envs/dev/lib/python3.12/site-packages (from scipy) (2.0.0)\n",
      "Downloading scipy-1.14.1-cp312-cp312-macosx_14_0_arm64.whl (23.1 MB)\n",
      "\u001b[2K   \u001b[90m━━━━━━━━━━━━━━━━━━━━━━━━━━━━━━━━━━━━━━━━\u001b[0m \u001b[32m23.1/23.1 MB\u001b[0m \u001b[31m7.1 MB/s\u001b[0m eta \u001b[36m0:00:00\u001b[0m00:01\u001b[0m00:01\u001b[0m\n",
      "\u001b[?25hInstalling collected packages: scipy\n",
      "Successfully installed scipy-1.14.1\n"
     ]
    }
   ],
   "source": [
    "!pip install scipy"
   ]
  },
  {
   "cell_type": "code",
   "execution_count": 1,
   "id": "7f048973-9ffb-4681-96d1-b005f4f3cb37",
   "metadata": {},
   "outputs": [],
   "source": [
    "import torchvision"
   ]
  },
  {
   "cell_type": "code",
   "execution_count": 6,
   "id": "6886c5f5-d92f-4b90-94e5-99140f2f36f5",
   "metadata": {},
   "outputs": [],
   "source": [
    "import torch"
   ]
  },
  {
   "cell_type": "code",
   "execution_count": 40,
   "id": "71f4d488-2a3c-45b3-b6a8-0b0e3495a138",
   "metadata": {},
   "outputs": [],
   "source": [
    "class ResNetBlock(torch.nn.Module):\n",
    "    def __init__(self, d):\n",
    "        super().__init__()\n",
    "        self.conv_blk_1 = torch.nn.Conv2d(d, d, kernel_size=(3, 3), padding=1)\n",
    "        self.relu = torch.nn.ReLU()\n",
    "        self.conv_blk_2 = torch.nn.Conv2d(d, d, kernel_size=(3, 3), padding=1)\n",
    "\n",
    "    def forward(self, x):\n",
    "        return self.conv_blk_2(self.relu(self.conv_blk_1(x))) + x"
   ]
  },
  {
   "cell_type": "code",
   "execution_count": 84,
   "id": "3e2e3b24-69e2-4638-8d11-8676e4180656",
   "metadata": {},
   "outputs": [],
   "source": [
    "import copy"
   ]
  },
  {
   "cell_type": "code",
   "execution_count": 86,
   "id": "e27397a7-923e-4d85-a63b-06931e9b24c8",
   "metadata": {},
   "outputs": [],
   "source": [
    "encoder_ = {\n",
    "    \"layers\": [\n",
    "        {\"name\": \"conv2d\", \"in_channels\": 3, \"out_channels\": 64, \"kernel_size\": 7, \"stride\": 1},\n",
    "        {\"name\": \"conv2d\", \"in_channels\": 64, \"out_channels\": 64, \"kernel_size\": 3, \"stride\": 2, 'padding': 1},\n",
    "        {\"name\": \"resnet\", \"repeat\": 2, \"in_channels\": 64, \"out_channels\": 64, \"kernel_size\": 3, \"stride\": 1, \"padding\": 1},\n",
    "        {\"name\": \"conv2d\", \"in_channels\": 64, \"out_channels\": 128, \"kernel_size\": 3, \"stride\": 2, 'padding': 1},\n",
    "        {\"name\": \"resnet\", \"repeat\": 2, \"in_channels\": 128, \"out_channels\": 128, \"kernel_size\": 3, \"stride\": 1, \"padding\": 1},\n",
    "        {\"name\": \"conv2d\", \"in_channels\": 128, \"out_channels\": 256, \"kernel_size\": 3, \"stride\": 2, 'padding': 1},\n",
    "        {\"name\": \"resnet\", \"repeat\": 2, \"in_channels\": 256, \"out_channels\": 256, \"kernel_size\": 3, \"stride\": 1, \"padding\": 1}\n",
    "    ]\n",
    "}"
   ]
  },
  {
   "cell_type": "code",
   "execution_count": 90,
   "id": "3bc97f84-5e3b-46b4-a7d8-c07ae1cc5813",
   "metadata": {},
   "outputs": [],
   "source": [
    "encoder = copy.deepcopy(encoder_)"
   ]
  },
  {
   "cell_type": "code",
   "execution_count": 91,
   "id": "803c2b9d-e1fe-4c24-82a6-7b1d42ea464d",
   "metadata": {},
   "outputs": [],
   "source": [
    "layers = []\n",
    "\n",
    "for layer in encoder['layers']:\n",
    "    if layer['name'] == 'conv2d':\n",
    "        del layer['name']\n",
    "        layers.append(torch.nn.Conv2d(**layer))\n",
    "        continue\n",
    "    if layer['name'] == 'resnet':\n",
    "        for _ in range(layer['repeat']):\n",
    "            layers.append(ResNetBlock(d=layer['in_channels']))"
   ]
  },
  {
   "cell_type": "code",
   "execution_count": 68,
   "id": "724f968a-5c53-4881-a5ed-5117186c6400",
   "metadata": {},
   "outputs": [],
   "source": [
    "x = torch.randn(2, 3, 256, 256)"
   ]
  },
  {
   "cell_type": "code",
   "execution_count": 69,
   "id": "027bff94-e07d-48a9-9ec6-30976ac1e30e",
   "metadata": {},
   "outputs": [
    {
     "data": {
      "text/plain": [
       "torch.Size([2, 3, 256, 256])"
      ]
     },
     "execution_count": 69,
     "metadata": {},
     "output_type": "execute_result"
    }
   ],
   "source": [
    "x.shape"
   ]
  },
  {
   "cell_type": "code",
   "execution_count": 70,
   "id": "de392efa-514a-4fe7-98f6-bad526fa80a6",
   "metadata": {},
   "outputs": [],
   "source": [
    "for l in torch.nn.ModuleList(layers):\n",
    "    x = l(x)"
   ]
  },
  {
   "cell_type": "code",
   "execution_count": 71,
   "id": "12a15f64-fb56-4ab2-89cb-f94a12d2eeef",
   "metadata": {},
   "outputs": [
    {
     "data": {
      "text/plain": [
       "torch.Size([2, 256, 32, 32])"
      ]
     },
     "execution_count": 71,
     "metadata": {},
     "output_type": "execute_result"
    }
   ],
   "source": [
    "x.shape"
   ]
  },
  {
   "cell_type": "code",
   "execution_count": 93,
   "id": "d67cccda-4183-44e6-9f22-2beca6c61ff0",
   "metadata": {},
   "outputs": [],
   "source": [
    "z = torch.randn(32, 256)"
   ]
  },
  {
   "cell_type": "code",
   "execution_count": 94,
   "id": "8ce5a7bc-8268-4f75-84d0-82f98333a2e0",
   "metadata": {},
   "outputs": [],
   "source": [
    "lookup = torch.nn.Embedding(1024, 256)"
   ]
  },
  {
   "cell_type": "code",
   "execution_count": 99,
   "id": "803d9aa9-c5e4-48f9-a5cf-a64df8ca53db",
   "metadata": {},
   "outputs": [
    {
     "data": {
      "text/plain": [
       "torch.Size([1024, 32, 256])"
      ]
     },
     "execution_count": 99,
     "metadata": {},
     "output_type": "execute_result"
    }
   ],
   "source": [
    "z.unsqueeze(0).repeat(1024, 1, 1) - lookup.weight.unsqueeze(1)"
   ]
  },
  {
   "cell_type": "code",
   "execution_count": 96,
   "id": "9f562792-0a50-4d49-9588-50daf3a6b7f6",
   "metadata": {},
   "outputs": [
    {
     "ename": "RuntimeError",
     "evalue": "The size of tensor a (32) must match the size of tensor b (1024) at non-singleton dimension 0",
     "output_type": "error",
     "traceback": [
      "\u001b[0;31m---------------------------------------------------------------------------\u001b[0m",
      "\u001b[0;31mRuntimeError\u001b[0m                              Traceback (most recent call last)",
      "Cell \u001b[0;32mIn[96], line 1\u001b[0m\n\u001b[0;32m----> 1\u001b[0m \u001b[43mz\u001b[49m\u001b[43m \u001b[49m\u001b[38;5;241;43m-\u001b[39;49m\u001b[43m \u001b[49m\u001b[43mlookup\u001b[49m\u001b[38;5;241;43m.\u001b[39;49m\u001b[43mweight\u001b[49m\n",
      "\u001b[0;31mRuntimeError\u001b[0m: The size of tensor a (32) must match the size of tensor b (1024) at non-singleton dimension 0"
     ]
    }
   ],
   "source": [
    "z - lookup.weight"
   ]
  },
  {
   "cell_type": "code",
   "execution_count": null,
   "id": "707438fc-5c33-4197-85bc-83b9bd831d0e",
   "metadata": {},
   "outputs": [],
   "source": []
  }
 ],
 "metadata": {
  "kernelspec": {
   "display_name": "dev",
   "language": "python",
   "name": "dev"
  },
  "language_info": {
   "codemirror_mode": {
    "name": "ipython",
    "version": 3
   },
   "file_extension": ".py",
   "mimetype": "text/x-python",
   "name": "python",
   "nbconvert_exporter": "python",
   "pygments_lexer": "ipython3",
   "version": "3.12.0"
  }
 },
 "nbformat": 4,
 "nbformat_minor": 5
}
